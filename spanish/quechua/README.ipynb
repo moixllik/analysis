{
 "cells": [
  {
   "cell_type": "markdown",
   "metadata": {},
   "source": [
    "# Diccionario Quechua\n",
    "\n",
    "Análisis de diccionarios del idioma Quechua, con fuentes en varios formatos, gráficos informativos y conclusiones.\n",
    "\n",
    "## Índice\n",
    "\n",
    "1. Definición del problema\n",
    "1. Plantear los objetivos\n",
    "1. Obtener los datos\n",
    "1. Preparar y optimizar los datos\n",
    "1. Procesar y analizar los datos\n",
    "1. Conclusiones\n",
    "\n",
    "## Desarrollo\n",
    "\n",
    "### Definición del problema\n",
    "\n",
    "El idioma quechua tiene dos vertientes en el uso de tres o cinco vocales, \n",
    "así como el número de sufijos usados.\n",
    "\n",
    "### Plantear los objetivos\n",
    "\n",
    "1. Describir las palabras en idioma Quechua según vocales y sufijos.\n",
    "2. Listar las palabras en el idioma Quechua.\n",
    "3. Clasificar según las tres vocales diferenciando los sufijos.\n",
    "\n",
    "### Obtener los datos\n",
    "\n",
    "El idioma Quechua cuenta con presencia en Internet y se dispone de diccionarios en varios formatos:\n",
    "\n",
    "* Publicaciones de instituciones o autores individuales en formatos PDF, ePUB, etc.\n",
    "* En formato para su fácil uso en Internet como Txt, Zip, etc."
   ]
  },
  {
   "cell_type": "code",
   "execution_count": 12,
   "metadata": {},
   "outputs": [
    {
     "name": "stdout",
     "output_type": "stream",
     "text": [
      "./data/runasimi.txt\n",
      "./data/runasimi.zip\n",
      "./data/diccionario.pdf\n"
     ]
    }
   ],
   "source": [
    "# Descargar los archivos de datos\n",
    "# !pip install requests\n",
    "\n",
    "import os\n",
    "import requests\n",
    "\n",
    "data = {\n",
    "    'runasimi.txt': 'https://www.runasimi.de/runasimi.txt',\n",
    "    'runasimi.zip': 'https://www.runasimi.de/runasimi.zip',\n",
    "    'diccionario.pdf': 'https://fcctp.usmp.edu.pe/librosfcctp/DICCIONARIO-Quechua-espanol-VOL_2.pdf'\n",
    "}\n",
    "\n",
    "if not os.path.exists('./data'):\n",
    "    os.makedirs('./data')\n",
    "\n",
    "for fname, url  in data.items():\n",
    "    fpath = './data/' + fname\n",
    "    print(fpath)\n",
    "    if not os.path.exists(fpath):\n",
    "        with requests.get(url, stream=True, verify=False) as r:\n",
    "            r.raise_for_status()\n",
    "            with open(fpath, 'wb') as f:\n",
    "                for chunk in r.iter_content(chunk_size=8192):\n",
    "                    f.write(chunk)"
   ]
  },
  {
   "cell_type": "markdown",
   "metadata": {},
   "source": [
    "### Preparar y optimizar los datos\n",
    "\n",
    "#### Leer los archivos"
   ]
  },
  {
   "cell_type": "code",
   "execution_count": 10,
   "metadata": {},
   "outputs": [],
   "source": [
    "# Leer documento en texto separado por tabs (TSV)\n",
    "# !pip install pandas\n",
    "\n",
    "import pandas as pd\n",
    "\n",
    "f_txt = './data/runasimi.txt'\n",
    "\n",
    "df_txt = pd.read_csv(f_txt, sep='\\t', encoding='latin1')\n",
    "#print(df_txt.columns)\n",
    "df_txt['Ayakuchu'].dropna().str.upper().to_csv('./data/data_1.csv', header=False, index=False)"
   ]
  },
  {
   "cell_type": "code",
   "execution_count": 11,
   "metadata": {},
   "outputs": [],
   "source": [
    "# Un archivo Excel dentro de un Zip comprimido\n",
    "# !pip install xlrd\n",
    "\n",
    "import pandas as pd\n",
    "import zipfile\n",
    "\n",
    "\n",
    "f_zip = './data/runasimi.zip'\n",
    "f_xls = 'runasimi.xls'\n",
    "\n",
    "with zipfile.ZipFile(f_zip, 'r') as z:\n",
    "    with z.open(f_xls) as f:\n",
    "        df_xls = pd.read_excel(f)\n",
    "        #print(df_xls.columns)\n",
    "        df_xls['Ayakuchu'].dropna().str.upper().to_csv('./data/data_2.csv', header=False, index=False)"
   ]
  },
  {
   "cell_type": "code",
   "execution_count": 5,
   "metadata": {},
   "outputs": [
    {
     "data": {
      "text/plain": [
       "'Página: 1441, data: 1154'"
      ]
     },
     "metadata": {},
     "output_type": "display_data"
    }
   ],
   "source": [
    "# Leer contenido en un PDF\n",
    "# !pip install pdfplumber\n",
    "\n",
    "import re\n",
    "import pdfplumber\n",
    "import pandas as pd\n",
    "from IPython.display import display, clear_output\n",
    "\n",
    "f_pdf = './data/diccionario.pdf'\n",
    "\n",
    "with pdfplumber.open(f_pdf) as pdf:\n",
    "    # print('Pages', len(pdf.pages)) # pag en PDF: 97 - 1346\n",
    "\n",
    "    part = 1\n",
    "    data = {}\n",
    "    \n",
    "    for page in range(96,1442):\n",
    "        clear_output(wait=True)\n",
    "        display(f'Página: {page}, data: {len(data.keys())}')\n",
    "        \n",
    "        texto = pdf.pages[page].extract_text_simple()\n",
    "        for p in re.findall(r'[A-Z]+', texto):\n",
    "            data[p] = 1\n",
    "\n",
    "        if len(data.keys()) >= 2000 or page >= 1441:\n",
    "            pd.DataFrame(data.keys(), columns=['palabras']).to_csv(f'./data/data_3-{part}.csv', index=False, header=False)\n",
    "            part += 1\n",
    "            data = {}"
   ]
  },
  {
   "cell_type": "markdown",
   "metadata": {},
   "source": [
    "#### Preparar la base de datos"
   ]
  },
  {
   "cell_type": "code",
   "execution_count": 2,
   "metadata": {},
   "outputs": [
    {
     "name": "stdout",
     "output_type": "stream",
     "text": [
      "+-------+\n",
      "|PALABRA|\n",
      "+-------+\n",
      "|      A|\n",
      "|      B|\n",
      "|      C|\n",
      "+-------+\n",
      "\n"
     ]
    }
   ],
   "source": [
    "# Uso de Spark para almacenar los datos (requiere Java JDK)\n",
    "# !pip install pyspark\n",
    "# docker run -it --rm spark:python3 /opt/spark/bin/pyspark\n",
    "\n",
    "from pyspark.sql import SparkSession\n",
    "\n",
    "spark = SparkSession.builder.appName('Quechua').getOrCreate()\n",
    "\n",
    "data = [('A',), ('B',), ('C',)]\n",
    "columns = ['PALABRA']\n",
    "df = spark.createDataFrame(data, columns)\n",
    "df.show()"
   ]
  },
  {
   "cell_type": "markdown",
   "metadata": {},
   "source": [
    "\n",
    "### Procesar y analizar los datos\n",
    "\n",
    "### Conclusiones"
   ]
  }
 ],
 "metadata": {
  "kernelspec": {
   "display_name": "Python 3",
   "language": "python",
   "name": "python3"
  },
  "language_info": {
   "codemirror_mode": {
    "name": "ipython",
    "version": 3
   },
   "file_extension": ".py",
   "mimetype": "text/x-python",
   "name": "python",
   "nbconvert_exporter": "python",
   "pygments_lexer": "ipython3",
   "version": "3.10.12"
  }
 },
 "nbformat": 4,
 "nbformat_minor": 2
}
