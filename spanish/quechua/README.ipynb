{
 "cells": [
  {
   "cell_type": "markdown",
   "metadata": {},
   "source": [
    "# Diccionario Quechua\n",
    "\n",
    "Análisis de diccionarios del idioma Quechua, con fuentes en varios formatos, gráficos informativos y conclusiones.\n",
    "\n",
    "## Índice\n",
    "\n",
    "1. Definición del problema\n",
    "1. Plantear los objetivos\n",
    "1. Obtener los datos\n",
    "1. Preparar y optimizar los datos\n",
    "1. Procesar y analizar los datos\n",
    "1. Conclusiones\n",
    "\n",
    "## Desarrollo\n",
    "\n",
    "### Definición del problema\n",
    "\n",
    "El idioma quechua tiene dos vertientes en el uso de tres o cinco vocales, \n",
    "así como el número de sufijos usados.\n",
    "\n",
    "### Plantear los objetivos\n",
    "\n",
    "1. Describir las palabras en idioma Quechua según vocales y sufijos.\n",
    "2. Listar las palabras en el idioma Quechua.\n",
    "3. Clasificar según las tres vocales diferenciando los sufijos.\n",
    "\n",
    "### Obtener los datos\n",
    "\n",
    "El idioma Quechua cuenta con presencia en Internet y se dispone de diccionarios en varios formatos:\n",
    "\n",
    "* Publicaciones de instituciones o autores individuales en formatos PDF, ePUB, etc.\n",
    "* En formato para su fácil uso en Internet como Txt, Zip, etc."
   ]
  },
  {
   "cell_type": "code",
   "execution_count": 49,
   "metadata": {},
   "outputs": [
    {
     "name": "stdout",
     "output_type": "stream",
     "text": [
      "./data/runasimi.txt\n",
      "./data/runasimi.zip\n",
      "./data/diccionario.pdf\n"
     ]
    }
   ],
   "source": [
    "# Descargar los archivos de datos\n",
    "# !pip install requests\n",
    "\n",
    "import os\n",
    "import requests\n",
    "\n",
    "data = {\n",
    "    'runasimi.txt': 'https://www.runasimi.de/runasimi.txt',\n",
    "    'runasimi.zip': 'https://www.runasimi.de/runasimi.zip',\n",
    "    'diccionario.pdf': 'https://fcctp.usmp.edu.pe/librosfcctp/DICCIONARIO-Quechua-espanol-VOL_2.pdf'\n",
    "}\n",
    "\n",
    "if not os.path.exists('./data'):\n",
    "    os.makedirs('./data')\n",
    "\n",
    "for fname, url  in data.items():\n",
    "    fpath = './data/' + fname\n",
    "    print(fpath)\n",
    "    if not os.path.exists(fpath):\n",
    "        with requests.get(url, stream=True, verify=False) as r:\n",
    "            r.raise_for_status()\n",
    "            with open(fpath, 'wb') as f:\n",
    "                for chunk in r.iter_content(chunk_size=8192):\n",
    "                    f.write(chunk)"
   ]
  },
  {
   "cell_type": "markdown",
   "metadata": {},
   "source": [
    "### Preparar y optimizar los datos"
   ]
  },
  {
   "cell_type": "code",
   "execution_count": 50,
   "metadata": {},
   "outputs": [
    {
     "name": "stdout",
     "output_type": "stream",
     "text": [
      "Index(['Hanan Runasimi', 'Ima simi', 'Sikllalla Runasimi', 'QUS-aiux',\n",
      "       'BuL-aiux', 'Tupah Yupanki (Qusqu)', 'Tukuman', 'Ayakuchu',\n",
      "       'Qhochapampa', 'Qullasuyu', 'QUS-BuL-aiu', 'Qusqu', 'Qosqo',\n",
      "       'Cajamarca (Coombs)', 'Qasamarka', 'Inkawasi', 'Laraos', 'Lamista',\n",
      "       'Imbabura (runashimi killkay)', 'Quichua (esp. quillcai)', 'Wanka',\n",
      "       'Jauja Wanka', 'Huánuco (Weber)', 'Wanuku', 'Ankash (ay, aw)',\n",
      "       'Ankash (ee, oo)', 'Kurunku', 'Deutsch', 'English', 'Español',\n",
      "       'Italiano', 'Français', 'Dansk/Norsk', 'Aymara',\n",
      "       'Yurap uywap salqap amutaypaq sutin', 'Kaqlla simi'],\n",
      "      dtype='object')\n"
     ]
    }
   ],
   "source": [
    "# Leer documento en texto separado por tabs (TSV)\n",
    "# !pip install pandas\n",
    "\n",
    "import pandas as pd\n",
    "\n",
    "f_txt = './data/runasimi.txt'\n",
    "\n",
    "df_txt = pd.read_csv(f_txt, sep='\\t', encoding='latin1')\n",
    "print(df_txt.columns)"
   ]
  },
  {
   "cell_type": "code",
   "execution_count": 51,
   "metadata": {},
   "outputs": [
    {
     "name": "stdout",
     "output_type": "stream",
     "text": [
      "Index(['Hanan Runasimi', 'Ima simi', 'Sikllalla Runasimi', 'QUS-aiux',\n",
      "       'BuL-aiux', 'Tupah Yupanki (Qusqu)', 'Tukuman', 'Ayakuchu',\n",
      "       'Qhochapampa', 'Qullasuyu', 'QUS-BuL-aiu', 'Qusqu', 'Qosqo',\n",
      "       'Cajamarca (Coombs)', 'Qasamarka', 'Inkawasi', 'Laraos', 'Lamista',\n",
      "       'Imbabura (runashimi killkay)', 'Quichua (esp. quillcai)', 'Wanka',\n",
      "       'Jauja Wanka', 'Huánuco (Weber)', 'Wanuku', 'Ankash (ay, aw)',\n",
      "       'Ankash (ee, oo)', 'Kurunku', 'Deutsch', 'English', 'Español',\n",
      "       'Italiano', 'Français', 'Dansk/Norsk', 'Aymara', 'Avañee', 'Русский',\n",
      "       'Yurap uywap salqap amutaypaq sutin', 'Kaqlla simi', 'Sut'inchaku',\n",
      "       'Ima mallki', 'Explicación del uso de la planta',\n",
      "       'Gonçalez Holguin y Huaman Poma', 'Quechua clásico', 'Waruchiri',\n",
      "       'Guaro Cheri', 'Tarma', 'Pastasa', 'Napuruna', 'Runasimi C',\n",
      "       'Runasimi Nord'],\n",
      "      dtype='object')\n"
     ]
    }
   ],
   "source": [
    "# Un archivo Excel dentro de un Zip comprimido\n",
    "# !pip install xlrd\n",
    "\n",
    "import pandas as pd\n",
    "import zipfile\n",
    "\n",
    "\n",
    "f_zip = './data/runasimi.zip'\n",
    "f_xls = 'runasimi.xls'\n",
    "\n",
    "with zipfile.ZipFile(f_zip, 'r') as z:\n",
    "    with z.open(f_xls) as f:\n",
    "        df_xls = pd.read_excel(f)\n",
    "        print(df_xls.columns)"
   ]
  },
  {
   "cell_type": "code",
   "execution_count": 52,
   "metadata": {},
   "outputs": [
    {
     "name": "stdout",
     "output_type": "stream",
     "text": [
      "Pages 1443\n",
      "Page 2 => Julio Calvo Pérez es catedrático jubilado de Lingüística General en la Universitat de\n",
      "València (España). Ha publicado diversas obras sobre castellano peninsular y peruano\n",
      "en sus ramas académica y andina, especialmente de corte lexicográfico. Su andadura en\n",
      "torno al quechua comenzó al principio de los años noventa y fraguó en su Pragmática\n",
      "y gramática del quechua cuzqueño (1993). Sus más de cien publicaciones sobre la\n",
      "lengua andina subrayan su dedicación a diversos temas de gramática, pragmática,\n",
      "morfología y sintaxis, fonología y lexicografía, como ahora la segunda edición de su\n",
      "monumental obra Nuevo diccionario español-quechua, quechua-español, publicada en\n",
      "cinco volúmenes por primera vez en 2009. Ha publicado una traducción al español\n",
      "de Ollantay (1998) y otra al catalán (2004), en colaboración con el novelista Salvador\n",
      "Company. También ha traducido al castellano la pieza teatral Uska Pawqar Inka (2019).\n",
      "Es académico correspondiente de la Academia Peruana de la Lengua y profesor ad\n",
      "honorem por la Universidad Ricardo Palma y la Universidad Nacional de San Agustín\n",
      "de Arequipa.\n"
     ]
    }
   ],
   "source": [
    "# Leer contenido en un PDF\n",
    "# !pip install pdfplumber\n",
    "\n",
    "import pdfplumber\n",
    "\n",
    "f_pdf = './data/diccionario.pdf'\n",
    "\n",
    "with pdfplumber.open(f_pdf) as pdf:\n",
    "    print('Pages', len(pdf.pages))\n",
    "    print('Page 2 =>', pdf.pages[2].extract_text())"
   ]
  },
  {
   "cell_type": "markdown",
   "metadata": {},
   "source": [
    "\n",
    "### Procesar y analizar los datos\n",
    "\n",
    "### Conclusiones"
   ]
  }
 ],
 "metadata": {
  "kernelspec": {
   "display_name": "Python 3",
   "language": "python",
   "name": "python3"
  },
  "language_info": {
   "codemirror_mode": {
    "name": "ipython",
    "version": 3
   },
   "file_extension": ".py",
   "mimetype": "text/x-python",
   "name": "python",
   "nbconvert_exporter": "python",
   "pygments_lexer": "ipython3",
   "version": "3.10.12"
  }
 },
 "nbformat": 4,
 "nbformat_minor": 2
}
