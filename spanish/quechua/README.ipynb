{
 "cells": [
  {
   "cell_type": "markdown",
   "metadata": {},
   "source": [
    "# Diccionario Quechua\n",
    "\n",
    "Análisis de diccionarios del idioma Quechua, con fuentes en varios formatos, gráficos informativos y conclusiones.\n",
    "\n",
    "## Índice\n",
    "\n",
    "1. Definición del problema\n",
    "1. Plantear los objetivos\n",
    "1. Obtener los datos\n",
    "1. Preparar y optimizar los datos\n",
    "1. Procesar y analizar los datos\n",
    "1. Conclusiones\n",
    "\n",
    "## Desarrollo\n",
    "\n",
    "### Definición del problema\n",
    "\n",
    "El idioma quechua tiene dos vertientes en el uso de tres o cinco vocales, \n",
    "así como el número de sufijos usados.\n",
    "\n",
    "### Plantear los objetivos\n",
    "\n",
    "1. Describir las palabras en idioma Quechua según vocales y sufijos.\n",
    "2. Listar las palabras en el idioma Quechua.\n",
    "3. Clasificar según las tres vocales diferenciando los sufijos.\n",
    "\n",
    "### Obtener los datos\n",
    "\n",
    "El idioma Quechua cuenta con presencia en Internet y se dispone de diccionarios en varios formatos:\n",
    "\n",
    "* Publicaciones de instituciones o autores individuales en formatos PDF, ePUB, etc.\n",
    "* En formato para su fácil uso en Internet como Txt, Zip, etc."
   ]
  },
  {
   "cell_type": "code",
   "execution_count": 1,
   "metadata": {},
   "outputs": [
    {
     "name": "stdout",
     "output_type": "stream",
     "text": [
      "./data/runasimi.txt\n"
     ]
    },
    {
     "name": "stderr",
     "output_type": "stream",
     "text": [
      "/home/moix/analysis/.venv/lib/python3.10/site-packages/urllib3/connectionpool.py:1099: InsecureRequestWarning: Unverified HTTPS request is being made to host 'www.runasimi.de'. Adding certificate verification is strongly advised. See: https://urllib3.readthedocs.io/en/latest/advanced-usage.html#tls-warnings\n",
      "  warnings.warn(\n"
     ]
    },
    {
     "name": "stdout",
     "output_type": "stream",
     "text": [
      "./data/runasimi.zip\n"
     ]
    },
    {
     "name": "stderr",
     "output_type": "stream",
     "text": [
      "/home/moix/analysis/.venv/lib/python3.10/site-packages/urllib3/connectionpool.py:1099: InsecureRequestWarning: Unverified HTTPS request is being made to host 'www.runasimi.de'. Adding certificate verification is strongly advised. See: https://urllib3.readthedocs.io/en/latest/advanced-usage.html#tls-warnings\n",
      "  warnings.warn(\n"
     ]
    },
    {
     "name": "stdout",
     "output_type": "stream",
     "text": [
      "./data/diccionario.pdf\n"
     ]
    },
    {
     "name": "stderr",
     "output_type": "stream",
     "text": [
      "/home/moix/analysis/.venv/lib/python3.10/site-packages/urllib3/connectionpool.py:1099: InsecureRequestWarning: Unverified HTTPS request is being made to host 'fcctp.usmp.edu.pe'. Adding certificate verification is strongly advised. See: https://urllib3.readthedocs.io/en/latest/advanced-usage.html#tls-warnings\n",
      "  warnings.warn(\n"
     ]
    }
   ],
   "source": [
    "# Descargar los archivos de datos\n",
    "# !pip install requests\n",
    "\n",
    "import os\n",
    "import requests\n",
    "\n",
    "data = {\n",
    "    'runasimi.txt': 'https://www.runasimi.de/runasimi.txt',\n",
    "    'runasimi.zip': 'https://www.runasimi.de/runasimi.zip',\n",
    "    'diccionario.pdf': 'https://fcctp.usmp.edu.pe/librosfcctp/DICCIONARIO-Quechua-espanol-VOL_2.pdf'\n",
    "}\n",
    "\n",
    "if not os.path.exists('./data'):\n",
    "    os.makedirs('./data')\n",
    "\n",
    "for fname, url  in data.items():\n",
    "    fpath = './data/' + fname\n",
    "    print(fpath)\n",
    "    if not os.path.exists(fpath):\n",
    "        with requests.get(url, stream=True, verify=False) as r:\n",
    "            r.raise_for_status()\n",
    "            with open(fpath, 'wb') as f:\n",
    "                for chunk in r.iter_content(chunk_size=8192):\n",
    "                    f.write(chunk)"
   ]
  },
  {
   "cell_type": "markdown",
   "metadata": {},
   "source": [
    "### Preparar y optimizar los datos\n",
    "\n",
    "#### Leer los archivos"
   ]
  },
  {
   "cell_type": "code",
   "execution_count": 2,
   "metadata": {},
   "outputs": [
    {
     "name": "stdout",
     "output_type": "stream",
     "text": [
      "Index(['Hanan Runasimi', 'Ima simi', 'Sikllalla Runasimi', 'QUS-aiux',\n",
      "       'BuL-aiux', 'Tupah Yupanki (Qusqu)', 'Tukuman', 'Ayakuchu',\n",
      "       'Qhochapampa', 'Qullasuyu', 'QUS-BuL-aiu', 'Qusqu', 'Qosqo',\n",
      "       'Cajamarca (Coombs)', 'Qasamarka', 'Inkawasi', 'Laraos', 'Lamista',\n",
      "       'Imbabura (runashimi killkay)', 'Quichua (esp. quillcai)', 'Wanka',\n",
      "       'Jauja Wanka', 'Huánuco (Weber)', 'Wanuku', 'Ankash (ay, aw)',\n",
      "       'Ankash (ee, oo)', 'Kurunku', 'Deutsch', 'English', 'Español',\n",
      "       'Italiano', 'Français', 'Dansk/Norsk', 'Aymara',\n",
      "       'Yurap uywap salqap amutaypaq sutin', 'Kaqlla simi'],\n",
      "      dtype='object')\n"
     ]
    }
   ],
   "source": [
    "# Leer documento en texto separado por tabs (TSV)\n",
    "# !pip install pandas\n",
    "\n",
    "import pandas as pd\n",
    "\n",
    "f_txt = './data/runasimi.txt'\n",
    "\n",
    "df_txt = pd.read_csv(f_txt, sep='\\t', encoding='latin1')\n",
    "print(df_txt.columns)"
   ]
  },
  {
   "cell_type": "code",
   "execution_count": 3,
   "metadata": {},
   "outputs": [
    {
     "name": "stdout",
     "output_type": "stream",
     "text": [
      "Index(['Hanan Runasimi', 'Ima simi', 'Sikllalla Runasimi', 'QUS-aiux',\n",
      "       'BuL-aiux', 'Tupah Yupanki (Qusqu)', 'Tukuman', 'Ayakuchu',\n",
      "       'Qhochapampa', 'Qullasuyu', 'QUS-BuL-aiu', 'Qusqu', 'Qosqo',\n",
      "       'Cajamarca (Coombs)', 'Qasamarka', 'Inkawasi', 'Laraos', 'Lamista',\n",
      "       'Imbabura (runashimi killkay)', 'Quichua (esp. quillcai)', 'Wanka',\n",
      "       'Jauja Wanka', 'Huánuco (Weber)', 'Wanuku', 'Ankash (ay, aw)',\n",
      "       'Ankash (ee, oo)', 'Kurunku', 'Deutsch', 'English', 'Español',\n",
      "       'Italiano', 'Français', 'Dansk/Norsk', 'Aymara', 'Avañee', 'Русский',\n",
      "       'Yurap uywap salqap amutaypaq sutin', 'Kaqlla simi', 'Sut'inchaku',\n",
      "       'Ima mallki', 'Explicación del uso de la planta',\n",
      "       'Gonçalez Holguin y Huaman Poma', 'Quechua clásico', 'Waruchiri',\n",
      "       'Guaro Cheri', 'Tarma', 'Pastasa', 'Napuruna', 'Runasimi C',\n",
      "       'Runasimi Nord'],\n",
      "      dtype='object')\n"
     ]
    }
   ],
   "source": [
    "# Un archivo Excel dentro de un Zip comprimido\n",
    "# !pip install xlrd\n",
    "\n",
    "import pandas as pd\n",
    "import zipfile\n",
    "\n",
    "\n",
    "f_zip = './data/runasimi.zip'\n",
    "f_xls = 'runasimi.xls'\n",
    "\n",
    "with zipfile.ZipFile(f_zip, 'r') as z:\n",
    "    with z.open(f_xls) as f:\n",
    "        df_xls = pd.read_excel(f)\n",
    "        print(df_xls.columns)"
   ]
  },
  {
   "cell_type": "code",
   "execution_count": 7,
   "metadata": {},
   "outputs": [
    {
     "name": "stdout",
     "output_type": "stream",
     "text": [
      "Pages 1443\n",
      "Page 97 => romóvil. Pron. /a-bi-yún/ // ABIYUN APAY duqmi, los saberes de esa persona son los\n",
      "(abiyun manihay) [transp.], tripular // ABI- [propios] de un abogado; «cult.», letrado;\n",
      "YUN APAQ (abiyun manihaq) [hum.], tri- [abstr.] «fig., fam.», derecho / ABUGADUQ\n",
      "pulante / ABIYUN APAYKACHAQ [+cant.], [Gen.], abogadesco, abogadil …abugaduq\n",
      "aeronauta // ABIYUN LINIYA [ind.], aero- kaynin, práctica abogadesca.\n",
      "línea; «+cult.», aerovía / ABIYUN PURI-\n",
      "ABUNAY (esp.) [agr.] (wanuchay), abonar, fe-\n",
      "NA KAMAY [ens.], aeronáutica / ABIYUN\n",
      "cundar // ABUNU CHURAY [afect.], insumir.\n",
      "PHALACHIQ [hum.], aguilucho ¶ / ABIYUN\n",
      "QHAWAQ [hum.], controlador {de vuelo / ABURRIKUY (esp.) [psíq.] «vulg.» (amikuy),\n",
      "ABIYUN WAQAYCHANA [loc.], hangar // aburrirse …aburrikuniña, ya estoy aburrido.\n",
      "ABIYUNKUNA (awiyunkuna) [col.], escua-\n",
      "ABUSASQA <∑ fem.> {[sex.] [+res.]}, violado;\n",
      "drilla, flota, patrulla {de aviones} …pisqapi\n",
      "atropellado // ABUSAYKUY (esp.) {[sex.]\n",
      "huñunasqa abiyunkuna hamusharan, se es-\n",
      "[+act.]} «coloq.» (allquchakuy), violar; for-\n",
      "tuvo aproximando una escuadrilla de cinco\n",
      "zar, perjudicar ¶; (sust.), violación // ABUSU\n",
      "aviones / ABIYUNKUNA APAQ (abiyun apa-\n",
      "(esp.) [concr.] (atipay), abuso // ABUSIBU\n",
      "qkuna) [+instr.] (def*) «fam.» (purtabiyunis),\n",
      "[der.] (saruchakuq), abusivo; [-mat.], cobar-\n",
      "portaaviones / ABIYUNPA KURPUN {[corp.]\n",
      "de / ABUSIBU KAMACHIY [abstr.] «fam.»\n",
      "[mat.]}, fuselaje / ABIYUNPA PURIYNIN\n",
      "(sinchi kay), abuso, atropello; tropelía.\n",
      "[concr.], aeronáutica // ABIYUNPAQ PU-\n",
      "ABUTARDA (esp.) [anim.], avutarda.\n",
      "RINA [loc.], pasillo {aéreo} / ABIYUNPAQ\n",
      "YACHANAKUY [+fr.], puente aéreo // ABI- ace. V. asi .\n",
      "2\n",
      "YUNPI LLANK’AY [afect.], tripular {un avión}\n",
      "ACHACHA ÷(chacha) [j.] «±us.» (pukllana), ju-\n",
      "/ ABIYUNPI LLANK’AQ SIÑURITA (esp. + q.\n",
      "guete.\n",
      "+ esp.) <fem.> [hum.] «fam.», azafata // ABI-\n",
      "YUNPI PAQARISQA [Exp.], aeronato // ABI- ACHACHÁW! (achacháy!) «interj.», achacháu\n",
      "YUNITA [±cant.], avioneta …qhaway, kinsa ¶, ¡achachay! ¶; ¡ayáu! ¶; ¡anda!, ¡andá!;\n",
      "abiyunita phalashan, mira, vuelan tres avio- «±interj.», ¡cáscaras!, ¡pajas!; [neg.], ¡aya-\n",
      "netas // ABIYASIYUN [transp.], aviación. yay!; [±cant.], ¡adiós! …achacháw! tawan-\n",
      "tin hamunqaku, imanatachá allchakusun,\n",
      "ABRA (esp.) [geogr.] «fam.» (q’asa), abra …\n",
      "¡adiós!, van a venir los cuatro y ¿cómo nos\n",
      "abraman chayarushanchis, estamos llegan-\n",
      "[= lo] arreglaremos?; ¡agárrate!; ¡pichón!;\n",
      "do al abra.\n",
      "«±us.» (¡alaláy!), ¡chacháy!; «fr. interj.»,\n",
      "ABRIDÚR (esp.) [instr.] (kichana), abrelatas; ¡qué dolor!; ¡mi madre! …achachaw!, para\n",
      "abridor. saqtayunqa, mi madre, la que va a caer\n",
      "[de lluvia]; (atakaw!), ¡qué miedo!; [pos.],\n",
      "ABRIGU ÷(arbigu) (esp.) [pr.] (churakuna), abri-\n",
      "¡qué bueno!; ¡qué sorpresa!; ¡qué mano! ¶;\n",
      "go, tabardo …ima nisunkimantaqri warmiyki\n",
      "«+interj.» (ahá!), ¡ahá!; ¡hum!; ¡huy!, ¡juy!;\n",
      "mana abriguyuq chayapuqtiyki?, ¿y qué te\n",
      "¡pucha! / ACHACHALLÁW! (achachaláw!)\n",
      "puede decir tu mujer si llegas sin abrigo [a\n",
      "{«interj.» «+vulg.»} [pos.], ¡la hostia!; (adj.),\n",
      "casa]?; (sakun), chaquetón / ABRIGU BISUN\n",
      "feotón; (fr. adj.), de miedo; (fr. sust.), gol de\n",
      "{[pr.] [+v.]}, abrigo {de visón}, visón.\n",
      "media cancha ¶; (fr.) [-mat.] «fig.», quitar el\n",
      "ABRIL KILLA (esp. + q.) [t.], abril …manan kaypi-\n",
      "hipo; [R.], poner por las estrellas; «apel.»,\n",
      "qa paranchu abril killapi, aquí no llueve en\n",
      "toma del frasco, Carrasco; róete ese hueso.\n",
      "abril; (adj.), abrileño.\n",
      "ACHACHI (aim.) [hum.], achachi // ACHACHI\n",
      "ABRUTANU (esp.) [veg.], abrótano, boja.\n",
      "URURI [astr.] «±us.» (quyllur), lucero {de la\n",
      "ABUBILLA (esp.) [anim.], abubilla; «±us.», upu- mañana} / ACHACHILA [mit.], achachila.\n",
      "pa.\n",
      "achachilla. V. apachita. V. achala.\n",
      "ABUGADU (esp.) [der.] «fam.» (amachaq), abo-\n",
      "achakana. V. t’ika t’ika.\n",
      "gado ...chay runaq yachayninkunaqa abuga-\n",
      "2\n"
     ]
    }
   ],
   "source": [
    "# Leer contenido en un PDF\n",
    "# !pip install pdfplumber\n",
    "\n",
    "import pdfplumber\n",
    "\n",
    "f_pdf = './data/diccionario.pdf'\n",
    "\n",
    "with pdfplumber.open(f_pdf) as pdf:\n",
    "    print('Pages', len(pdf.pages)) # 97 - 1346\n",
    "    print('Page 97 =>', pdf.pages[97].extract_text())"
   ]
  },
  {
   "cell_type": "markdown",
   "metadata": {},
   "source": [
    "#### Preparar la base de datos"
   ]
  },
  {
   "cell_type": "code",
   "execution_count": 28,
   "metadata": {},
   "outputs": [
    {
     "name": "stdout",
     "output_type": "stream",
     "text": [
      "+-------+\n",
      "|PALABRA|\n",
      "+-------+\n",
      "|      A|\n",
      "|      B|\n",
      "|      C|\n",
      "+-------+\n",
      "\n"
     ]
    }
   ],
   "source": [
    "# Uso de Spark para almacenar los datos (requiere Java JDK)\n",
    "# !pip install pyspark\n",
    "# docker run -it --rm spark:python3 /opt/spark/bin/pyspark\n",
    "\n",
    "from pyspark.sql import SparkSession\n",
    "\n",
    "spark = SparkSession.builder.appName('Quechua').getOrCreate()\n",
    "\n",
    "data = [('A',), ('B',), ('C',)]\n",
    "columns = ['PALABRA']\n",
    "df = spark.createDataFrame(data, columns)\n",
    "df.show()"
   ]
  },
  {
   "cell_type": "markdown",
   "metadata": {},
   "source": [
    "\n",
    "### Procesar y analizar los datos\n",
    "\n",
    "### Conclusiones"
   ]
  }
 ],
 "metadata": {
  "kernelspec": {
   "display_name": "Python 3",
   "language": "python",
   "name": "python3"
  },
  "language_info": {
   "codemirror_mode": {
    "name": "ipython",
    "version": 3
   },
   "file_extension": ".py",
   "mimetype": "text/x-python",
   "name": "python",
   "nbconvert_exporter": "python",
   "pygments_lexer": "ipython3",
   "version": "3.10.12"
  }
 },
 "nbformat": 4,
 "nbformat_minor": 2
}
