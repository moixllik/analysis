{
 "cells": [
  {
   "cell_type": "markdown",
   "metadata": {},
   "source": [
    "# Diccionario Quechua\n",
    "\n",
    "## Planificación\n",
    "\n",
    "1. [Definición del problema]()\n",
    "1. [Plantear los objetivos]()\n",
    "1. [Obtener los datos]()\n",
    "1. [Preparar y optimizar los datos]()\n",
    "1. [Procesar y analizar los datos]()\n",
    "1. [Conclusiones]()\n",
    "\n",
    "### Definición del problema\n",
    "\n",
    "El idioma quechua tiene dos vertientes en el uso de tres o cinco vocales, \n",
    "así como el número de sufijos usados.\n",
    "\n",
    "### Plantear los objetivos\n",
    "\n",
    "1. Describir las palabras en idioma Quechua según vocales y sufijos.\n",
    "2. Listar las palabras en el idioma Quechua.\n",
    "3. Clasificar según las tres vocales diferenciando los sufijos.\n",
    "\n",
    "### Obtener los datos\n",
    "\n",
    "El idioma Quechua cuenta con presencia en Internet y se dispone de diccionarios en varios formatos:\n",
    "\n",
    "* PDF - Publicaciones de instituciones o autores individuales\n",
    "* Datos - En formato Texto o Excel, para su fácil uso en Internet\n",
    "\n",
    "### Preparar y optimizar los datos\n",
    "\n",
    "### Procesar y analizar los datos\n",
    "\n",
    "### Conclusiones"
   ]
  },
  {
   "cell_type": "markdown",
   "metadata": {},
   "source": []
  }
 ],
 "metadata": {
  "language_info": {
   "name": "python"
  }
 },
 "nbformat": 4,
 "nbformat_minor": 2
}
